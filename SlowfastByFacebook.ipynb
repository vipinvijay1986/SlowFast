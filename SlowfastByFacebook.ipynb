{
  "nbformat": 4,
  "nbformat_minor": 0,
  "metadata": {
    "colab": {
      "name": "SlowfastByFacebook.ipynb",
      "provenance": [],
      "collapsed_sections": [],
      "mount_file_id": "1Q7hNqI8WFQeo5Now_6p262HEFRNHxtOJ",
      "authorship_tag": "ABX9TyOZCTrbHGuCMWbfl+6K39BW",
      "include_colab_link": true
    },
    "kernelspec": {
      "name": "python3",
      "display_name": "Python 3"
    },
    "accelerator": "GPU"
  },
  "cells": [
    {
      "cell_type": "markdown",
      "metadata": {
        "id": "view-in-github",
        "colab_type": "text"
      },
      "source": [
        "<a href=\"https://colab.research.google.com/github/vipinvijay1986/SlowFast/blob/master/SlowfastByFacebook.ipynb\" target=\"_parent\"><img src=\"https://colab.research.google.com/assets/colab-badge.svg\" alt=\"Open In Colab\"/></a>"
      ]
    },
    {
      "cell_type": "code",
      "metadata": {
        "id": "39o6Kaa25SII"
      },
      "source": [
        "!python --version"
      ],
      "execution_count": null,
      "outputs": []
    },
    {
      "cell_type": "markdown",
      "metadata": {
        "id": "Sh3dXh55xzlj"
      },
      "source": [
        "#Install dependency to run demo"
      ]
    },
    {
      "cell_type": "code",
      "metadata": {
        "id": "x1mrfX4GBnvk"
      },
      "source": [
        "!pip install 'git+https://github.com/facebookresearch/fvcore'\n",
        "!pip install torch torchvision\n",
        "!pip install simplejson\n",
        "!pip install tensorboard\n",
        "!pip install av\n",
        "!pip install psutil\n",
        "!pip install opencv-python\n",
        "!pip install tensorboard\n",
        "!pip install moviepy\n",
        "!pip install -U torch torchvision cython\n",
        "!pip install --upgrade youtube-dl\n",
        "!pip install ffmpeg-python\n"
      ],
      "execution_count": null,
      "outputs": []
    },
    {
      "cell_type": "code",
      "metadata": {
        "id": "Cbd42Czq1-Cy"
      },
      "source": [
        "!pip install -U 'git+https://github.com/facebookresearch/fvcore.git' 'git+https://github.com/cocodataset/cocoapi.git#subdirectory=PythonAPI'\n",
        "!git clone https://github.com/facebookresearch/detectron2 detectron2_repo \n",
        "!pip install -e detectron2_repo"
      ],
      "execution_count": null,
      "outputs": []
    },
    {
      "cell_type": "markdown",
      "metadata": {
        "id": "ZUUJCvMe74vU"
      },
      "source": [
        "#Download Pickle file , youtube files and save it in SlowFastData"
      ]
    },
    {
      "cell_type": "code",
      "metadata": {
        "id": "wSntV0EvaEzm"
      },
      "source": [
        "!wget https://dl.fbaipublicfiles.com/pyslowfast/model_zoo/ava/SLOWFAST_64x2_R101_50_50.pkl -P  /content/SlowFastData/demo/AVA\n",
        "#!wget https://dl.fbaipublicfiles.com/pyslowfast/model_zoo/ava/SLOWFAST_32x2_R101_50_50.pkl -P  /content/SlowFastData/demo/AVA\n",
        "#!wget https://dl.fbaipublicfiles.com/pyslowfast/model_zoo/kinetics400/SLOWFAST_8x8_R50.pkl -P  /content/SlowFastData/demo/Kinetics\n",
        "#!wget  https://dl.fbaipublicfiles.com/pyslowfast/model_zoo/SLOWFAST_8x8_R50.pkl -P  /content/SlowFastData/demo/Kinetics\n"
      ],
      "execution_count": null,
      "outputs": []
    },
    {
      "cell_type": "code",
      "metadata": {
        "id": "LpEfBSHnxKQb"
      },
      "source": [
        "!youtube-dl --quiet --no-warnings -f mp4 -o \"/content/SlowFastData/demo/KidsCycling.%(ext)s\" \"https://www.youtube.com/watch?v=YUVkebGL_Hw\"\n",
        "!youtube-dl --quiet --no-warnings -f mp4 -o \"/content/SlowFastData/demo/KidsPlaying.%(ext)s\" \"https://www.youtube.com/watch?v=--GEr5-PyTI\"\n",
        "!youtube-dl --quiet --no-warnings -f mp4 -o \"/content/SlowFastData/demo/KidsClass.%(ext)s\" \"https://www.youtube.com/watch?v=Wxc4adPkf7A\""
      ],
      "execution_count": null,
      "outputs": []
    },
    {
      "cell_type": "markdown",
      "metadata": {
        "id": "SmBJEp0ayFp2"
      },
      "source": [
        "#Check for Env and Clone SlowFast and Move to cloned directory"
      ]
    },
    {
      "cell_type": "code",
      "metadata": {
        "id": "9Wirvkz5JKQu"
      },
      "source": [
        "cd /content/"
      ],
      "execution_count": null,
      "outputs": []
    },
    {
      "cell_type": "code",
      "metadata": {
        "id": "KxJXacDbPXhY"
      },
      "source": [
        "!echo $PYTHONPATH"
      ],
      "execution_count": null,
      "outputs": []
    },
    {
      "cell_type": "code",
      "metadata": {
        "id": "goNOWBs31soN"
      },
      "source": [
        "rm -rf /content/SlowFast/"
      ],
      "execution_count": null,
      "outputs": []
    },
    {
      "cell_type": "code",
      "metadata": {
        "id": "4-yE46txibxf"
      },
      "source": [
        "!git clone -b master https://github.com/vipinvijay1986/SlowFast.git\n"
      ],
      "execution_count": null,
      "outputs": []
    },
    {
      "cell_type": "code",
      "metadata": {
        "id": "lqS_PeLpPMcP"
      },
      "source": [
        "!export PYTHONPATH=/content/SlowFast/slowfast:$PYTHONPATH\n"
      ],
      "execution_count": null,
      "outputs": []
    },
    {
      "cell_type": "code",
      "metadata": {
        "id": "pyfZ8H4kxCbh"
      },
      "source": [
        "cd /content/SlowFast"
      ],
      "execution_count": null,
      "outputs": []
    },
    {
      "cell_type": "code",
      "metadata": {
        "id": "tOmoYwO6xLS9"
      },
      "source": [
        "!python setup.py build develop\n"
      ],
      "execution_count": null,
      "outputs": []
    },
    {
      "cell_type": "markdown",
      "metadata": {
        "id": "I4mIh-QZkT8G"
      },
      "source": [
        "#Run Sample "
      ]
    },
    {
      "cell_type": "code",
      "metadata": {
        "id": "htZ3FSK9HHQO"
      },
      "source": [
        "cd /content/SlowFast"
      ],
      "execution_count": null,
      "outputs": []
    },
    {
      "cell_type": "code",
      "metadata": {
        "id": "ipaEHxDf-upH"
      },
      "source": [
        "#!python3 tools/run_net.py --cfg /content/SlowFast/demo/Kinetics/SLOWFAST_8x8_R50.yaml"
      ],
      "execution_count": null,
      "outputs": []
    },
    {
      "cell_type": "code",
      "metadata": {
        "id": "vGWszFgrqY8s"
      },
      "source": [
        "#!python3 tools/run_net.py --cfg   /content/SlowFast/demo/Kinetics/SLOWFAST_8x8_R50.yaml  DEMO.INPUT_VIDEO /content/SlowFastData/demo/KidsPlaying.mp4 DEMO.OUTPUT_FILE /content/SlowFastData/demo/KidsPlaying_kinetic_out.mp4"
      ],
      "execution_count": null,
      "outputs": []
    },
    {
      "cell_type": "code",
      "metadata": {
        "id": "Rj1XX7Bh5TFC"
      },
      "source": [
        "#!python3 tools/run_net.py --cfg  /content/SlowFast/demo/AVA/SLOWFAST_64x2_R101_50_50.yaml"
      ],
      "execution_count": null,
      "outputs": []
    },
    {
      "cell_type": "code",
      "metadata": {
        "id": "eZ_thROkmP-9"
      },
      "source": [
        "#!python3 tools/run_net.py --cfg  /content/SlowFast/demo/AVA/SLOWFAST_64x2_R101_50_50.yaml DEMO.INPUT_VIDEO /content/SlowFastData/demo/KidsPlaying.mp4 DEMO.OUTPUT_FILE /content/SlowFastData/demo/KidsPlaying_ava_out.mp4"
      ],
      "execution_count": null,
      "outputs": []
    },
    {
      "cell_type": "code",
      "metadata": {
        "id": "N2OeYR3OkOiv"
      },
      "source": [
        "!python3 tools/run_net.py --cfg  /content/SlowFast/demo/AVA/SLOWFAST_64x2_R101_50_50.yaml DEMO.INPUT_VIDEO /content/SlowFastData/demo/KidsPlaying.mp4 DEMO.OUTPUT_FILE /content/SlowFastData/demo/KidsPlaying_ava.mp4"
      ],
      "execution_count": null,
      "outputs": []
    },
    {
      "cell_type": "code",
      "metadata": {
        "id": "sHFUhh35Wljl"
      },
      "source": [
        "cp -r \"/content/SlowFast/\" \"/content/drive/My Drive/Action_Output/pySlowFast\""
      ],
      "execution_count": null,
      "outputs": []
    },
    {
      "cell_type": "code",
      "metadata": {
        "id": "xVWnAcFNW3Pt"
      },
      "source": [
        "#cp -r \"/content/SlowFastData/\" \"/content/drive/My Drive/pySlowFast\""
      ],
      "execution_count": null,
      "outputs": []
    },
    {
      "cell_type": "code",
      "metadata": {
        "id": "xAYD97QatZfT"
      },
      "source": [
        "#cp -r /content/SlowFastData/demo/ \"/content/drive/My Drive/Action_Output\""
      ],
      "execution_count": null,
      "outputs": []
    }
  ]
}